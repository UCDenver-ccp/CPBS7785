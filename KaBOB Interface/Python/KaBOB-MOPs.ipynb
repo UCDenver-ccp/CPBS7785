{
 "cells": [
  {
   "cell_type": "markdown",
   "metadata": {},
   "source": [
    "# KaBOB-MOPs"
   ]
  },
  {
   "cell_type": "markdown",
   "metadata": {},
   "source": [
    "## AllegroGraph Python Tutorial"
   ]
  },
  {
   "cell_type": "markdown",
   "metadata": {},
   "source": [
    "Set server variables"
   ]
  },
  {
   "cell_type": "markdown",
   "metadata": {
    "collapsed": true
   },
   "source": [
    "## KaBOB Interface Test"
   ]
  },
  {
   "cell_type": "markdown",
   "metadata": {},
   "source": [
    "KaBOBInterface is used to mopify and parse KaBOB triples. OpenKaBOB opens a connection to KaBOB and closes it using a `with` statement"
   ]
  },
  {
   "cell_type": "code",
   "execution_count": 1,
   "metadata": {},
   "outputs": [
    {
     "name": "stderr",
     "output_type": "stream",
     "text": [
      "DEBUG:OpenKaBOB:Connecting to AllegroGraph server --host:'amc-tantor.ucdenver.pvt' port:10037\n",
      "DEBUG:OpenKaBOB:Closed kabob_prod_feb2018\n"
     ]
    },
    {
     "name": "stdout",
     "output_type": "stream",
     "text": [
      "Triples in KaBOB: 283830446\n"
     ]
    }
   ],
   "source": [
    "from KaBOB_Interface import KaBOBInterface, OpenKaBOB\n",
    "import KaBOB_Constants\n",
    "with OpenKaBOB() as kabob:\n",
    "    print('Triples in KaBOB:', kabob.size())"
   ]
  },
  {
   "cell_type": "markdown",
   "metadata": {},
   "source": [
    "### Basic Querying"
   ]
  },
  {
   "cell_type": "markdown",
   "metadata": {},
   "source": [
    "#### Without using the interface (using just agraph_python)"
   ]
  },
  {
   "cell_type": "code",
   "execution_count": 2,
   "metadata": {},
   "outputs": [
    {
     "name": "stderr",
     "output_type": "stream",
     "text": [
      "DEBUG:OpenKaBOB:Connecting to AllegroGraph server --host:'amc-tantor.ucdenver.pvt' port:10037\n"
     ]
    },
    {
     "name": "stdout",
     "output_type": "stream",
     "text": [
      "Triples in KaBOB: 283830446\n",
      "Label for p53\n",
      "\t\"cellular tumor antigen p53 (human)\"\n",
      "\n",
      "Triples with p53 as the subject\n",
      "\t\"cellular tumor antigen p53 (human)\" subClassOf \"cellular tumor antigen p53\"\n",
      "\t\"cellular tumor antigen p53 (human)\" subClassOf \"Homo sapiens protein\"\n",
      "\n",
      "Triples with p53 as the object\n",
      "\t\"cellular tumor antigen p53 (human)\" subClassOf \"cellular tumor antigen p53 isoform 1 (human)\"\n",
      "\t\"cellular tumor antigen p53 (human)\" annotatedSource \"PR:P04637 located_in GO:0005654\"\n",
      "\t\"cellular tumor antigen p53 (human)\" subClassOf \"cellular tumor antigen p53 phosphorylated 15 (human)\"\n",
      "\t\"cellular tumor antigen p53 (human)\" subClassOf \"cellular tumor antigen p53 phosphorylated 14 (human)\"\n",
      "\t\"cellular tumor antigen p53 (human)\" subClassOf \"cellular tumor antigen p53 dimethylated 3 (human)\"\n",
      "\t\"cellular tumor antigen p53 (human)\" subClassOf \"cellular tumor antigen p53 phosphorylated 16 (human)\"\n",
      "\t\"cellular tumor antigen p53 (human)\" subClassOf \"cellular tumor antigen p53 phosphorylated 1 (human)\"\n",
      "\t\"cellular tumor antigen p53 (human)\" subClassOf \"cellular tumor antigen p53 phosphorylated 13 (human)\"\n",
      "\t\"cellular tumor antigen p53 (human)\" subClassOf \"cellular tumor antigen p53 dimethylated 2 (human)\"\n",
      "\t\"cellular tumor antigen p53 (human)\" subClassOf \"cellular tumor antigen p53 isoform h4 (human)\"\n",
      "\t\"cellular tumor antigen p53 (human)\" subClassOf \"cellular tumor antigen p53 isoform h7 (human)\"\n",
      "\t\"cellular tumor antigen p53 (human)\" subClassOf \"cellular tumor antigen p53 isoform h2 (human)\"\n",
      "\t\"cellular tumor antigen p53 (human)\" subClassOf \"cellular tumor antigen p53 isoform h8 (human)\"\n",
      "\t\"cellular tumor antigen p53 (human)\" subClassOf \"cellular tumor antigen p53 isoform h9 (human)\"\n",
      "\t\"cellular tumor antigen p53 (human)\" subClassOf \"cellular tumor antigen p53 isoform h5 (human)\"\n",
      "\t\"cellular tumor antigen p53 (human)\" subClassOf \"cellular tumor antigen p53 isoform h3 (human)\"\n",
      "\t\"cellular tumor antigen p53 (human)\" subClassOf \"cellular tumor antigen p53 isoform h6 (human)\"\n",
      "\t\"cellular tumor antigen p53 (human)\" subClassOf \"cellular tumor antigen p53 phosphorylated 19 (human)\"\n",
      "\t\"cellular tumor antigen p53 (human)\" subClassOf \"cellular tumor antigen p53 phosphorylated 17 (human)\"\n",
      "\t\"cellular tumor antigen p53 (human)\" subClassOf \"cellular tumor antigen p53 sumoylated 1 (human)\"\n",
      "\t\"cellular tumor antigen p53 (human)\" subClassOf \"cellular tumor antigen p53 phosphorylated 12 (human)\"\n",
      "\t\"cellular tumor antigen p53 (human)\" subClassOf \"cellular tumor antigen p53 ubiquitinated form (human)\""
     ]
    },
    {
     "name": "stderr",
     "output_type": "stream",
     "text": [
      "DEBUG:OpenKaBOB:Closed kabob_prod_feb2018\n"
     ]
    },
    {
     "name": "stdout",
     "output_type": "stream",
     "text": [
      "\n",
      "\t\"cellular tumor antigen p53 (human)\" subClassOf \"cellular tumor antigen p53 phosphorylated 18 (human)\"\n",
      "\t\"cellular tumor antigen p53 (human)\" subClassOf \"cellular tumor antigen p53 phosphorylated 4 (human)\"\n"
     ]
    }
   ],
   "source": [
    "from KaBOB_Interface import OpenKaBOB\n",
    "\n",
    "p53 = kabob.createURI(\"http://purl.obolibrary.org/obo/PR_P04637\")\n",
    "label = kabob.createURI(\"http://www.w3.org/2000/01/rdf-schema#label\")\n",
    "\n",
    "with OpenKaBOB() as kabob:\n",
    "    print('Triples in KaBOB:', kabob.size())\n",
    "    \n",
    "    print('Label for p53')\n",
    "    p53_labels = kabob.getStatements(p53, label).asList()\n",
    "    p53_label = p53_labels[0].getObject()\n",
    "    print(\"\\t%s\" % p53_label)\n",
    "    \n",
    "    print()\n",
    "    \n",
    "    print('Triples with p53 as the subject')\n",
    "    p53_as_subject = kabob.getStatements(p53, None, None)\n",
    "    with p53_as_subject:\n",
    "        p53_as_subject.enableDuplicateFilter()  # This may or may not be necessary all the time\n",
    "        for statement in p53_as_subject:\n",
    "            object_labels = kabob.getStatements(statement.getObject(), label).asList()\n",
    "            \n",
    "            if object_labels:\n",
    "                print(\"\\t%s %s %s\" % (p53_label, statement.getPredicate().getLocalName(), object_labels[0].getObject()))\n",
    "    \n",
    "    print()\n",
    "    \n",
    "    print('Triples with p53 as the object')\n",
    "    p53_as_object = kabob.getStatements(None, None, p53)\n",
    "    with p53_as_object:\n",
    "        p53_as_object.enableDuplicateFilter()\n",
    "        for statement in p53_as_object:\n",
    "            subject_labels = kabob.getStatements(statement.getSubject(), label).asList()\n",
    "            \n",
    "            if subject_labels:\n",
    "                print(\"\\t%s %s %s\" % (p53_label, statement.getPredicate().getLocalName(), subject_labels[0].getObject()))\n"
   ]
  },
  {
   "cell_type": "markdown",
   "metadata": {
    "collapsed": true
   },
   "source": [
    "#### With the interface"
   ]
  },
  {
   "cell_type": "code",
   "execution_count": 5,
   "metadata": {},
   "outputs": [
    {
     "name": "stderr",
     "output_type": "stream",
     "text": [
      "DEBUG:OpenKaBOB:Connecting to AllegroGraph server --host:'amc-tantor.ucdenver.pvt' port:10037\n"
     ]
    },
    {
     "name": "stdout",
     "output_type": "stream",
     "text": [
      "Label for p53\n",
      "\tcellular tumor antigen p53 (human)\n",
      "\n",
      "Triples with p53 as the subject\n",
      "\tcellular tumor antigen p53 (human) database_cross_reference \"UniProtKB:P04637\"\n",
      "\tcellular tumor antigen p53 (human) database_cross_reference \"Reactome:R-HSA-69488\"\n",
      "\tcellular tumor antigen p53 (human) id \"PR:P04637\"\n",
      "\tcellular tumor antigen p53 (human) has_obo_namespace \"protein\"\n",
      "\tcellular tumor antigen p53 (human) definition \"A cellular tumor antigen p53 that is encoded in the genome of human.\"\n",
      "\tcellular tumor antigen p53 (human) label \"cellular tumor antigen p53 (human)\"\n",
      "\tcellular tumor antigen p53 (human) comment \"Category=organism-gene.\"\n",
      "\tcellular tumor antigen p53 (human) subClassOf cellular tumor antigen p53\n",
      "\tcellular tumor antigen p53 (human) subClassOf Homo sapiens protein\n",
      "\tcellular tumor antigen p53 (human) subClassOf pr_genid1776552\n",
      "\tcellular tumor antigen p53 (human) subClassOf pr_genid338241\n",
      "\tcellular tumor antigen p53 (human) equivalentClass pr_genid338237\n",
      "\tcellular tumor antigen p53 (human) type Class\n",
      "\tcellular tumor antigen p53 (human) has_exact_synonym \"hTP53\"\n",
      "\n",
      "Triples with p53 as the object\n",
      "\tPR_P04637 denotes cellular tumor antigen p53 (human)\n",
      "\tcellular tumor antigen p53 isoform 1 (human) subClassOf cellular tumor antigen p53 (human)\n",
      "\tPR:P04637 located_in GO:0005654 annotatedSource cellular tumor antigen p53 (human)\n",
      "\tcellular tumor antigen p53 phosphorylated 15 (human) subClassOf cellular tumor antigen p53 (human)\n",
      "\tcellular tumor antigen p53 phosphorylated 14 (human) subClassOf cellular tumor antigen p53 (human)\n",
      "\tcellular tumor antigen p53 dimethylated 3 (human) subClassOf cellular tumor antigen p53 (human)\n",
      "\tcellular tumor antigen p53 phosphorylated 16 (human) subClassOf cellular tumor antigen p53 (human)\n",
      "\tcellular tumor antigen p53 phosphorylated 1 (human) subClassOf cellular tumor antigen p53 (human)\n",
      "\tcellular tumor antigen p53 phosphorylated 13 (human) subClassOf cellular tumor antigen p53 (human)\n",
      "\tcellular tumor antigen p53 dimethylated 2 (human) subClassOf cellular tumor antigen p53 (human)\n",
      "\tcellular tumor antigen p53 isoform h4 (human) subClassOf cellular tumor antigen p53 (human)\n",
      "\tpr_genid163811 first cellular tumor antigen p53 (human)\n",
      "\tcellular tumor antigen p53 isoform h7 (human) subClassOf cellular tumor antigen p53 (human)\n",
      "\tcellular tumor antigen p53 isoform h2 (human) subClassOf cellular tumor antigen p53 (human)\n",
      "\tcellular tumor antigen p53 isoform h8 (human) subClassOf cellular tumor antigen p53 (human)\n",
      "\tcellular tumor antigen p53 isoform h9 (human) subClassOf cellular tumor antigen p53 (human)\n",
      "\tpr_genid338244 annotatedSource cellular tumor antigen p53 (human)\n",
      "\tpr_genid338242 annotatedSource cellular tumor antigen p53 (human)\n",
      "\tcellular tumor antigen p53 isoform h5 (human) subClassOf cellular tumor antigen p53 (human)\n",
      "\tcellular tumor antigen p53 isoform h3 (human) subClassOf cellular tumor antigen p53 (human)\n",
      "\tcellular tumor antigen p53 isoform h6 (human) subClassOf cellular tumor antigen p53 (human)\n",
      "\tcellular tumor antigen p53 phosphorylated 19 (human) subClassOf cellular tumor antigen p53 (human)\n",
      "\tcellular tumor antigen p53 phosphorylated 17 (human) subClassOf cellular tumor antigen p53 (human)\n",
      "\tcellular tumor antigen p53 sumoylated 1 (human) subClassOf cellular tumor antigen p53 (human)\n",
      "\tcellular tumor antigen p53 phosphorylated 12 (human) subClassOf cellular tumor antigen p53 (human)\n",
      "\tcellular tumor antigen p53 ubiquitinated form (human) subClassOf cellular tumor antigen p53 (human)\n",
      "\tcellular tumor antigen p53 phosphorylated 18 (human) subClassOf cellular tumor antigen p53 (human)\n"
     ]
    },
    {
     "name": "stderr",
     "output_type": "stream",
     "text": [
      "DEBUG:OpenKaBOB:Closed kabob_prod_feb2018\n"
     ]
    },
    {
     "name": "stdout",
     "output_type": "stream",
     "text": [
      "\tcellular tumor antigen p53 phosphorylated 4 (human) subClassOf cellular tumor antigen p53 (human)\n"
     ]
    }
   ],
   "source": [
    "from KaBOB_Interface import KaBOBInterface, OpenKaBOB\n",
    "\n",
    "p53 = \"obo:PR_P04637\"\n",
    "\n",
    "with OpenKaBOB() as kabob:\n",
    "    interface = KaBOBInterface(kabob)\n",
    "    \n",
    "    print('Label for p53')\n",
    "    p53_label = interface.node_print_name(p53)\n",
    "    print(\"\\t%s\" % p53_label)\n",
    "    \n",
    "    print()\n",
    "    \n",
    "    print('Triples with p53 as the subject')\n",
    "    for statement in interface.agraph_get_objects(p53, None, full_statement=True):\n",
    "        object_label = interface.node_print_name(statement.getObject())\n",
    "        predicate_label = interface.node_print_name(statement.getPredicate())\n",
    "        print(\"\\t%s %s %s\" % (p53_label, predicate_label, object_label))\n",
    "    \n",
    "    print()\n",
    "    \n",
    "    print('Triples with p53 as the object')\n",
    "    for statement in interface.agraph_get_subjects(p53, None, full_statement=True):\n",
    "        subject_label = interface.node_print_name(statement.getSubject())\n",
    "        predicate_label = interface.node_print_name(statement.getPredicate())\n",
    "        print(\"\\t%s %s %s\" % (subject_label, predicate_label, p53_label))"
   ]
  },
  {
   "cell_type": "markdown",
   "metadata": {},
   "source": [
    "### Mopification"
   ]
  },
  {
   "cell_type": "code",
   "execution_count": 6,
   "metadata": {},
   "outputs": [
    {
     "name": "stderr",
     "output_type": "stream",
     "text": [
      "DEBUG:OpenKaBOB:Connecting to AllegroGraph server --host:'amc-tantor.ucdenver.pvt' port:10037\n",
      "DEBUG:KaBOBInterface:Mopifying cellular tumor antigen p53 (human)\n",
      "DEBUG:KaBOBInterface:\tMopifying Restriction - \n",
      "DEBUG:KaBOBInterface:\tFinished mopifying Restriction - \n",
      "DEBUG:KaBOBInterface:\tMopifying Restriction - \n",
      "DEBUG:KaBOBInterface:\tFinished mopifying Restriction - \n",
      "DEBUG:KaBOBInterface:\tMopifying gene product abstraction - \n",
      "C:\\Users\\pielk\\Google Drive\\HunterLab\\KaBOB\\Python\\KaBOB_Interface.py:48: UserWarning: gene product abstraction -  has both superclasses and type\n",
      "  warnings.warn(name + \" has both superclasses and type\")\n",
      "DEBUG:KaBOBInterface:\t\tMopifying gene or gene product abstraction - \n",
      "DEBUG:KaBOBInterface:\t\tFinished mopifying gene or gene product abstraction - \n",
      "DEBUG:KaBOBInterface:\t\tMopifying gene product or gene product variant abstraction - \n",
      "C:\\Users\\pielk\\Google Drive\\HunterLab\\KaBOB\\Python\\KaBOB_Interface.py:48: UserWarning: gene product or gene product variant abstraction -  has both superclasses and type\n",
      "  warnings.warn(name + \" has both superclasses and type\")\n",
      "DEBUG:KaBOBInterface:\t\t\tMopifying gene or gene product or variant abstraction - \n",
      "DEBUG:KaBOBInterface:\t\t\tFinished mopifying gene or gene product or variant abstraction - \n",
      "DEBUG:KaBOBInterface:\t\tFinished mopifying gene product or gene product variant abstraction - \n",
      "DEBUG:KaBOBInterface:\tFinished mopifying gene product abstraction - \n",
      "DEBUG:KaBOBInterface:\tMopifying Homo sapiens protein\n",
      "DEBUG:KaBOBInterface:\t\tMopifying eukaryotic protein\n",
      "DEBUG:KaBOBInterface:\t\t\tMopifying protein\n",
      "DEBUG:KaBOBInterface:\t\t\t\tMopifying information biomacromolecule\n",
      "DEBUG:KaBOBInterface:\t\t\t\t\tMopifying biomacromolecule\n",
      "DEBUG:KaBOBInterface:\t\t\t\t\t\tMopifying organic molecular entity\n",
      "DEBUG:KaBOBInterface:\t\t\t\t\t\t\tMopifying carbon group molecular entity\n",
      "DEBUG:KaBOBInterface:\t\t\t\t\t\t\t\tMopifying p-block molecular entity\n",
      "DEBUG:KaBOBInterface:\t\t\t\t\t\t\t\t\tMopifying main group molecular entity\n",
      "DEBUG:KaBOBInterface:\t\t\t\t\t\t\t\t\t\tMopifying molecular entity\n",
      "DEBUG:KaBOBInterface:\t\t\t\t\t\t\t\t\t\t\tMopifying chemical entity\n",
      "DEBUG:KaBOBInterface:\t\t\t\t\t\t\t\t\t\t\t\tMopifying material entity\n",
      "DEBUG:KaBOBInterface:\t\t\t\t\t\t\t\t\t\t\t\t\tMopifying independent continuant\n",
      "DEBUG:KaBOBInterface:\t\t\t\t\t\t\t\t\t\t\t\t\t\tMopifying continuant\n",
      "DEBUG:KaBOBInterface:\t\t\t\t\t\t\t\t\t\t\t\t\t\t\tMopifying entity\n",
      "DEBUG:KaBOBInterface:\t\t\t\t\t\t\t\t\t\t\t\t\t\t\tFinished mopifying entity\n",
      "DEBUG:KaBOBInterface:\t\t\t\t\t\t\t\t\t\t\t\t\t\tFinished mopifying continuant\n",
      "DEBUG:KaBOBInterface:\t\t\t\t\t\t\t\t\t\t\t\t\tFinished mopifying independent continuant\n",
      "DEBUG:KaBOBInterface:\t\t\t\t\t\t\t\t\t\t\t\tFinished mopifying material entity\n",
      "DEBUG:KaBOBInterface:\t\t\t\t\t\t\t\t\t\t\t\tMopifying object\n",
      "DEBUG:KaBOBInterface:\t\t\t\t\t\t\t\t\t\t\t\tFinished mopifying object\n",
      "DEBUG:KaBOBInterface:\t\t\t\t\t\t\t\t\t\t\tFinished mopifying chemical entity\n",
      "DEBUG:KaBOBInterface:\t\t\t\t\t\t\t\t\t\tFinished mopifying molecular entity\n",
      "DEBUG:KaBOBInterface:\t\t\t\t\t\t\t\t\tFinished mopifying main group molecular entity\n",
      "DEBUG:KaBOBInterface:\t\t\t\t\t\t\t\tFinished mopifying p-block molecular entity\n",
      "DEBUG:KaBOBInterface:\t\t\t\t\t\t\tFinished mopifying carbon group molecular entity\n",
      "DEBUG:KaBOBInterface:\t\t\t\t\t\tFinished mopifying organic molecular entity\n",
      "DEBUG:KaBOBInterface:\t\t\t\t\t\tMopifying macromolecule\n",
      "DEBUG:KaBOBInterface:\t\t\t\t\t\t\tMopifying polyatomic entity\n",
      "DEBUG:KaBOBInterface:\t\t\t\t\t\t\tFinished mopifying polyatomic entity\n",
      "DEBUG:KaBOBInterface:\t\t\t\t\t\tFinished mopifying macromolecule\n",
      "DEBUG:KaBOBInterface:\t\t\t\t\tFinished mopifying biomacromolecule\n",
      "DEBUG:KaBOBInterface:\t\t\t\tFinished mopifying information biomacromolecule\n",
      "DEBUG:KaBOBInterface:\t\t\t\tMopifying biopolymer\n",
      "DEBUG:KaBOBInterface:\t\t\t\t\tMopifying interactor type\n",
      "DEBUG:KaBOBInterface:\t\t\t\t\tFinished mopifying interactor type\n",
      "DEBUG:KaBOBInterface:\t\t\t\tFinished mopifying biopolymer\n",
      "DEBUG:KaBOBInterface:\t\t\t\tMopifying amino acid chain\n",
      "DEBUG:KaBOBInterface:\t\t\t\t\tMopifying organic amino compound\n",
      "DEBUG:KaBOBInterface:\t\t\t\t\t\tMopifying organonitrogen compound\n",
      "DEBUG:KaBOBInterface:\t\t\t\t\t\t\tMopifying nitrogen molecular entity\n",
      "DEBUG:KaBOBInterface:\t\t\t\t\t\t\t\tMopifying pnictogen molecular entity\n",
      "DEBUG:KaBOBInterface:\t\t\t\t\t\t\t\tFinished mopifying pnictogen molecular entity\n",
      "DEBUG:KaBOBInterface:\t\t\t\t\t\t\tFinished mopifying nitrogen molecular entity\n",
      "DEBUG:KaBOBInterface:\t\t\t\t\t\t\tMopifying heteroorganic entity\n",
      "DEBUG:KaBOBInterface:\t\t\t\t\t\t\tFinished mopifying heteroorganic entity\n",
      "DEBUG:KaBOBInterface:\t\t\t\t\t\tFinished mopifying organonitrogen compound\n",
      "DEBUG:KaBOBInterface:\t\t\t\t\tFinished mopifying organic amino compound\n",
      "DEBUG:KaBOBInterface:\t\t\t\tFinished mopifying amino acid chain\n",
      "DEBUG:KaBOBInterface:\t\t\tFinished mopifying protein\n",
      "DEBUG:KaBOBInterface:\t\tFinished mopifying eukaryotic protein\n",
      "DEBUG:KaBOBInterface:\tFinished mopifying Homo sapiens protein\n",
      "DEBUG:KaBOBInterface:\tMopifying cellular tumor antigen p53\n",
      "DEBUG:KaBOBInterface:\tFinished mopifying cellular tumor antigen p53\n",
      "DEBUG:KaBOBInterface:Finished mopifying cellular tumor antigen p53 (human)\n",
      "DEBUG:OpenKaBOB:Closed kabob_prod_feb2018\n"
     ]
    },
    {
     "name": "stdout",
     "output_type": "stream",
     "text": [
      "NAME cellular tumor antigen p53 (human)\n",
      "TYPE <class 'MOPs.MOP'>\n",
      "ISA Homo sapiens protein\n",
      "\tNAME Homo sapiens protein\n",
      "\tTYPE <class 'MOPs.MOP'>\n",
      "\tISA eukaryotic protein\n",
      "\tROLE label\n",
      "\tFILLER \"Homo sapiens protein\"@en\n",
      "\tROLE subClassOf\n",
      "\tFILLER eukaryotic protein\n",
      "\tROLE equivalentClass\n",
      "\tFILLER BN_pr_genid84260\n",
      "ISA cellular tumor antigen p53\n",
      "\tNAME cellular tumor antigen p53\n",
      "\tTYPE <class 'MOPs.MOP'>\n",
      "\tISA protein\n",
      "\tROLE label\n",
      "\tFILLER \"cellular tumor antigen p53\"@en\n",
      "\tROLE subClassOf\n",
      "\tFILLER protein\n",
      "ISA gene product abstraction - \n",
      "\tNAME gene product abstraction - \n",
      "\tTYPE <class 'MOPs.Instance'>\n",
      "\tISA gene or gene product abstraction - \n",
      "\tISA gene product or gene product variant abstraction - \n",
      "ROLE label\n",
      "FILLER \"cellular tumor antigen p53 (human)\"@en\n",
      "ROLE subClassOf\n",
      "FILLER cellular tumor antigen p53\n",
      "ROLE equivalentClass\n",
      "FILLER BN_pr_genid338237\n",
      "ROLE has_gene_template\n",
      "\tNAME Restriction - \n",
      "\tTYPE <class 'MOPs.Instance'>\n",
      "ROLE only_in_taxon\n",
      "\tNAME Restriction - \n",
      "\tTYPE <class 'MOPs.Instance'>\n"
     ]
    }
   ],
   "source": [
    "from KaBOB_Interface import KaBOBInterface, OpenKaBOB\n",
    "import KaBOB_Constants\n",
    "p53 = \"obo:PR_P04637\"\n",
    "\n",
    "with OpenKaBOB() as kabob:\n",
    "    interface = KaBOBInterface(kabob)\n",
    "\n",
    "    bio_p53 = interface.bio(interface.create_uri(p53))\n",
    "\n",
    "    interface.mopify(bio_p53, 0)\n",
    "    interface.mopsManager.show_frame(interface.node_print_name(bio_p53), max_depth=2)"
   ]
  },
  {
   "cell_type": "code",
   "execution_count": null,
   "metadata": {
    "collapsed": true
   },
   "outputs": [],
   "source": [
    "BP_root = \"obo:GO_0008150\"\n",
    "MF_root = \"obo:GO_0003674\"\n",
    "CC_root = \"obo:GO_0005575\"\n",
    "PRO_root = \"obo:PR_000000001\"\n",
    "localization_process = \"obo:GO_0051179\"\n",
    "binding_process = \"obo:GO_0005488\"\n",
    "interaction = \"obo:MI_0000\"\n",
    "physical_association = \"obo:MI_0915\"\n",
    "apoptotic_process = \"obo:GO_0006915\"\n",
    "p53 = \"obo:PR_P04637\"\n",
    "cytochrome_C = \"obo:PR_P08574\""
   ]
  }
 ],
 "metadata": {
  "kernelspec": {
   "display_name": "Python 3",
   "language": "python",
   "name": "python3"
  },
  "language_info": {
   "codemirror_mode": {
    "name": "ipython",
    "version": 3
   },
   "file_extension": ".py",
   "mimetype": "text/x-python",
   "name": "python",
   "nbconvert_exporter": "python",
   "pygments_lexer": "ipython3",
   "version": "3.6.3"
  }
 },
 "nbformat": 4,
 "nbformat_minor": 2
}
